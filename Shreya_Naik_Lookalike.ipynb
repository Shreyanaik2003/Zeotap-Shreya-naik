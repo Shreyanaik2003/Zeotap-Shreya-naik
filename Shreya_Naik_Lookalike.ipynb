{
 "cells": [
  {
   "cell_type": "code",
   "execution_count": 1,
   "metadata": {},
   "outputs": [
    {
     "name": "stdout",
     "output_type": "stream",
     "text": [
      "  CustomerID SimilarCustomerID  SimilarityScore\n",
      "0      C0001             C0050           0.5103\n",
      "1      C0001             C0121           0.4593\n",
      "2      C0001             C0199           0.4331\n",
      "3      C0002             C0030           0.6736\n",
      "4      C0002             C0173           0.4377\n"
     ]
    }
   ],
   "source": [
    "import pandas as pd\n",
    "from sklearn.metrics.pairwise import cosine_similarity\n",
    "from sklearn.preprocessing import StandardScaler\n",
    "\n",
    "# Load datasets\n",
    "customers = pd.read_csv(\"Customers.csv\")\n",
    "products = pd.read_csv(\"Products.csv\")\n",
    "transactions = pd.read_csv(\"Transactions.csv\")\n",
    "\n",
    "# Merge datasets\n",
    "merged_data = transactions.merge(customers, on=\"CustomerID\").merge(products, on=\"ProductID\")\n",
    "\n",
    "# Feature Engineering: Create customer-product matrix\n",
    "customer_product_matrix = merged_data.pivot_table(\n",
    "    index=\"CustomerID\", \n",
    "    columns=\"ProductName\", \n",
    "    values=\"Quantity\", \n",
    "    aggfunc=\"sum\",\n",
    "    fill_value=0\n",
    ")\n",
    "\n",
    "# Normalize data\n",
    "scaler = StandardScaler()\n",
    "customer_product_matrix_scaled = scaler.fit_transform(customer_product_matrix)\n",
    "\n",
    "# Calculate similarity\n",
    "similarity_matrix = cosine_similarity(customer_product_matrix_scaled)\n",
    "similarity_df = pd.DataFrame(similarity_matrix, \n",
    "                              index=customer_product_matrix.index, \n",
    "                              columns=customer_product_matrix.index)\n",
    "\n",
    "# Find top 3 lookalikes for each customer (C0001 - C0020)\n",
    "lookalike_results = {}\n",
    "for customer in similarity_df.index[:20]:\n",
    "    similar_customers = similarity_df[customer].sort_values(ascending=False).iloc[1:4]\n",
    "    lookalike_results[customer] = [(similar_customer, round(similarity_score, 4)) \n",
    "                                   for similar_customer, similarity_score in similar_customers.items()]\n",
    "\n",
    "# Convert results to DataFrame\n",
    "lookalike_df = pd.DataFrame(\n",
    "    [(cust, sim_cust, score) for cust, values in lookalike_results.items() for sim_cust, score in values],\n",
    "    columns=[\"CustomerID\", \"SimilarCustomerID\", \"SimilarityScore\"]\n",
    ")\n",
    "\n",
    "# Save results to CSV\n",
    "lookalike_df.to_csv(\"Shreya_Naik_Lookalike.csv\", index=False)\n",
    "\n",
    "# Display example results\n",
    "print(lookalike_df.head())\n",
    "\n",
    "# Explanation:\n",
    "# 1. Customers.csv and Products.csv are combined with Transactions.csv to create a unified dataset.\n",
    "# 2. A customer-product matrix is created where rows represent customers and columns represent products.\n",
    "# 3. Cosine similarity is used to find similar customers based on their purchase history.\n",
    "# 4. The top 3 similar customers for each of the first 20 customers are extracted and saved in the required format.\n"
   ]
  }
 ],
 "metadata": {
  "kernelspec": {
   "display_name": "Python 3",
   "language": "python",
   "name": "python3"
  },
  "language_info": {
   "codemirror_mode": {
    "name": "ipython",
    "version": 3
   },
   "file_extension": ".py",
   "mimetype": "text/x-python",
   "name": "python",
   "nbconvert_exporter": "python",
   "pygments_lexer": "ipython3",
   "version": "3.11.3"
  }
 },
 "nbformat": 4,
 "nbformat_minor": 2
}
